{
 "cells": [
  {
   "cell_type": "markdown",
   "id": "0",
   "metadata": {},
   "source": [
    "# QA for the Population Based Model\n",
    "\n",
    "This QA notebook compares the results of national runs of the NHP PBM. The aim is to check results from the previous model version with the new model version, and check that any differences are expected.\n",
    "\n",
    "IMPORTANT:\n",
    "- Check that params-sample.json has not had changes between each version\n",
    "- If using params-sample, the default scenario name and datetime are unhelpful. Customise these.\n",
    "- For the dev run, you will need to change all references to the model/data/outputs version - use find/replace to do this\n",
    "\n",
    "Use nhp_model_databricks to run the PBM. [Instructions here](https://github.com/The-Strategy-Unit/nhp_products/wiki/How-to-run-the-ICB-and-national-level-models)\n",
    "\n",
    "1.  Run the PBM on the previous version of the model using params-sample.json. \n",
    "1.  Copy the path to the aggregated results folder for this model run and save to \"current_results_folder\" variable\n",
    "1.  Run the PBM on the dev version of the model using params-sample.json. \n",
    "1.  Copy the path to the aggregated results folder for this model run and save to \"dev_results_folder\" variable\n",
    "\n",
    "\n",
    "\n"
   ]
  },
  {
   "cell_type": "code",
   "execution_count": null,
   "id": "1",
   "metadata": {},
   "outputs": [],
   "source": [
    "current_results_folder = \"\"\n",
    "dev_results_folder = \"\""
   ]
  },
  {
   "cell_type": "code",
   "execution_count": null,
   "id": "2",
   "metadata": {},
   "outputs": [],
   "source": [
    "# Get params from Azure\n",
    "%cd ../..\n",
    "\n",
    "import os\n",
    "from datetime import date\n",
    "\n",
    "import pandas as pd\n",
    "from dotenv import load_dotenv\n",
    "\n",
    "from nhpy import az, process_results\n",
    "\n",
    "%load_ext autoreload\n",
    "%autoreload 2\n",
    "\n",
    "# Load all environment variables\n",
    "load_dotenv()\n",
    "account_url = os.getenv(\"AZ_STORAGE_EP\")\n",
    "results_container = os.getenv(\"AZ_STORAGE_RESULTS\")"
   ]
  },
  {
   "cell_type": "code",
   "execution_count": null,
   "id": "3",
   "metadata": {},
   "outputs": [],
   "source": [
    "results_connection = az.connect_to_container(account_url, results_container)\n",
    "default_current = process_results.convert_results_format(az.load_agg_results(results_connection, current_results_folder))\n",
    "default_dev = process_results.convert_results_format(az.load_agg_results(results_connection, dev_results_folder))\n",
    "process_results.compare_default(default_current, default_dev).to_csv(\n",
    "    f\"QA_default_PBM_{date.today()}.csv\", index=False\n",
    ")"
   ]
  }
 ],
 "metadata": {
  "kernelspec": {
   "display_name": "nhp-products",
   "language": "python",
   "name": "python3"
  },
  "language_info": {
   "codemirror_mode": {
    "name": "ipython",
    "version": 3
   },
   "file_extension": ".py",
   "mimetype": "text/x-python",
   "name": "python",
   "nbconvert_exporter": "python",
   "pygments_lexer": "ipython3",
   "version": "3.12.7"
  }
 },
 "nbformat": 4,
 "nbformat_minor": 5
}
